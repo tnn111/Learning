{
 "cells": [
  {
   "cell_type": "code",
   "execution_count": null,
   "id": "43cc199d",
   "metadata": {},
   "outputs": [],
   "source": [
    "import anthropic\n",
    "import os\n",
    "from dotenv import load_dotenv\n",
    "\n",
    "load_dotenv()\n",
    "\n",
    "my_api_key = os.environ.get('ANTHROPIC_API_KEY')\n",
    "\n",
    "client = anthropic.Anthropic(api_key = my_api_key)\n",
    "\n",
    "def get_completion(prompt: str, system_prompt: str = '', prefill: str = '') -> str:\n",
    "    message = client.messages.create(\n",
    "        model = 'claude-sonnet-4-5',\n",
    "        max_tokens = 4000,\n",
    "        temperature = 0.0,\n",
    "        system = system_prompt,\n",
    "        messages = [\n",
    "          {'role': 'user', 'content': prompt},\n",
    "          {'role': 'assistant', 'content': prefill}\n",
    "        ]\n",
    "    )\n",
    "    return message.content[0].text"
   ]
  },
  {
   "cell_type": "code",
   "execution_count": 32,
   "id": "a278aa81",
   "metadata": {},
   "outputs": [
    {
     "name": "stdout",
     "output_type": "stream",
     "text": [
      "--------------------------- Full prompt with variable substutions ---------------------------\n",
      "Please write a haiku about Rabbit. Put it in  tags.\n",
      "\n",
      "------------------------------------- Claude's response -------------------------------------\n",
      "<haiku>\n",
      "Soft ears alert, twitching—\n",
      "White cotton tail disappears\n",
      "Into spring clover\n",
      "</haiku>\n"
     ]
    }
   ],
   "source": [
    "system_prompt = ''\n",
    "prompt = f\"I will tell you the name of an animal. Please respond with the noise that animal makes. {ANIMAL}\"\n",
    "ANIMAL = 'cow'\n",
    "# Variable content\n",
    "ANIMAL = \"Rabbit\"\n",
    "\n",
    "# Prompt template with a placeholder for the variable content\n",
    "prompt = f\"Please write a haiku about {ANIMAL}. Put it in  tags.\"\n",
    "\n",
    "# Print Claude's response\n",
    "print(\"--------------------------- Full prompt with variable substutions ---------------------------\")\n",
    "print(prompt)\n",
    "print(\"\\n------------------------------------- Claude's response -------------------------------------\")\n",
    "print(get_completion(prompt))\n",
    "\n",
    "#print(get_completion(prompt, system_prompt))"
   ]
  },
  {
   "cell_type": "code",
   "execution_count": 39,
   "id": "69057e30",
   "metadata": {},
   "outputs": [
    {
     "name": "stdout",
     "output_type": "stream",
     "text": [
      "<brainstorm>\n",
      "Let me think about famous actors born in 1956:\n",
      "\n",
      "- Tom Hanks - born July 9, 1956\n",
      "- Mel Gibson - born January 3, 1956\n",
      "- Carrie Fisher - born October 21, 1956\n",
      "- Geena Davis - born January 21, 1956\n",
      "- Bill Maher - born January 20, 1956\n",
      "- Nathan Lane - born February 3, 1956\n",
      "\n",
      "Tom Hanks has been in many famous movies like Forrest Gump, Cast Away, Saving Private Ryan, The Green Mile, Toy Story series, etc.\n",
      "</brainstorm>\n",
      "\n",
      "**Forrest Gump** (1994) - starring Tom Hanks, who was born on July 9, 1956. This iconic film won multiple Academy Awards including Best Picture and Best Actor for Hanks' portrayal of the titular character.\n"
     ]
    }
   ],
   "source": [
    "prompt = \"\"\"Name a famous movie starring an actor who was born in the year 1956. First brainstorm about some actors and their birth years in  tags, then give your answer.\"\"\"\n",
    "\n",
    "system_prompt = 'You are a helpful assistant.'\n",
    "\n",
    "# Print Claude's response\n",
    "print(get_completion(prompt, system_prompt))"
   ]
  },
  {
   "cell_type": "code",
   "execution_count": null,
   "id": "69697c39",
   "metadata": {},
   "outputs": [],
   "source": []
  },
  {
   "cell_type": "code",
   "execution_count": null,
   "id": "3691917a",
   "metadata": {},
   "outputs": [],
   "source": []
  }
 ],
 "metadata": {
  "kernelspec": {
   "display_name": "learning",
   "language": "python",
   "name": "python3"
  },
  "language_info": {
   "codemirror_mode": {
    "name": "ipython",
    "version": 3
   },
   "file_extension": ".py",
   "mimetype": "text/x-python",
   "name": "python",
   "nbconvert_exporter": "python",
   "pygments_lexer": "ipython3",
   "version": "3.13.7"
  }
 },
 "nbformat": 4,
 "nbformat_minor": 5
}

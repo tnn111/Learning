{
 "cells": [
  {
   "cell_type": "code",
   "execution_count": null,
   "id": "43cc199d",
   "metadata": {},
   "outputs": [],
   "source": [
    "import anthropic\n",
    "import os\n",
    "from dotenv import load_dotenv\n",
    "\n",
    "load_dotenv()\n",
    "\n",
    "my_api_key = os.environ.get('ANTHROPIC_API_KEY')\n",
    "\n",
    "client = anthropic.Anthropic(api_key = my_api_key)\n",
    "\n",
    "def get_completion(prompt: str, system_prompt: str = 'You are a helpful assistant.') -> str:\n",
    "    message = client.messages.create(\n",
    "        model = 'claude-sonnet-4-5',\n",
    "        max_tokens = 2000,\n",
    "        temperature = 0.0,\n",
    "        system = system_prompt,\n",
    "        messages = [\n",
    "          {'role': 'user', 'content': prompt}\n",
    "        ]\n",
    "    )\n",
    "    return message.content[0].text"
   ]
  },
  {
   "cell_type": "code",
   "execution_count": 13,
   "id": "a278aa81",
   "metadata": {},
   "outputs": [
    {
     "name": "stdout",
     "output_type": "stream",
     "text": [
      "*looks up with wide eyes*\n",
      "\n",
      "The sky is SO SO SO big! It goes up and up and up and up forever and ever! \n",
      "\n",
      "*spreads arms out as wide as possible*\n",
      "\n",
      "It's bigger than my house! Bigger than the park! Bigger than... than... EVERYTHING!\n",
      "\n",
      "Sometimes I try to touch it but it's too far away. And it has clouds in it like fluffy cotton balls! And the sun! And at nighttime it has the moon and twinkle stars!\n",
      "\n",
      "*spins around*\n",
      "\n",
      "Mommy says it goes all the way around the whole world! That's really really really big!\n",
      "\n",
      "How come the sky is so big? Do you know?\n"
     ]
    }
   ],
   "source": [
    "prompt = 'How big is the sky?'\n",
    "\n",
    "print(get_completion(prompt, 'Pretend you are a 3-year old child.'))"
   ]
  }
 ],
 "metadata": {
  "kernelspec": {
   "display_name": "learning",
   "language": "python",
   "name": "python3"
  },
  "language_info": {
   "codemirror_mode": {
    "name": "ipython",
    "version": 3
   },
   "file_extension": ".py",
   "mimetype": "text/x-python",
   "name": "python",
   "nbconvert_exporter": "python",
   "pygments_lexer": "ipython3",
   "version": "3.13.7"
  }
 },
 "nbformat": 4,
 "nbformat_minor": 5
}

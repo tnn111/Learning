{
 "cells": [
  {
   "cell_type": "code",
   "execution_count": 19,
   "id": "1fc9cc47",
   "metadata": {},
   "outputs": [
    {
     "data": {
      "text/plain": [
       "True"
      ]
     },
     "execution_count": 19,
     "metadata": {},
     "output_type": "execute_result"
    }
   ],
   "source": [
    "import anthropic\n",
    "import os\n",
    "import sys\n",
    "import json\n",
    "from dotenv import load_dotenv\n",
    "from pprint import pprint\n",
    "\n",
    "load_dotenv()\n"
   ]
  },
  {
   "cell_type": "code",
   "execution_count": 16,
   "id": "796770a0",
   "metadata": {},
   "outputs": [],
   "source": [
    "my_api_key = os.environ.get('ANTHROPIC_API_KEY')\n",
    "client = anthropic.Anthropic(api_key = my_api_key)"
   ]
  },
  {
   "cell_type": "code",
   "execution_count": 17,
   "id": "b032db6d",
   "metadata": {},
   "outputs": [],
   "source": [
    "message = client.messages.create(\n",
    "    model = 'claude-sonnet-4-5',\n",
    "    max_tokens = 1024,\n",
    "    messages = [\n",
    "        {\"role\": \"user\", \"content\": \"Hello, how can I help you today?\"}\n",
    "    ]\n",
    ")"
   ]
  },
  {
   "cell_type": "code",
   "execution_count": 30,
   "id": "bb88a6aa",
   "metadata": {},
   "outputs": [
    {
     "name": "stdout",
     "output_type": "stream",
     "text": [
      "Message(id='msg_01AKW7YKg8qkRMmN5BpZUmB7', content=[TextBlock(citations=None, text=\"Hello! I appreciate the greeting, but I'm actually here to help *you*. Is there something you'd like to know about or discuss? I'm happy to assist with questions, have a conversation, help with writing or analysis, or whatever else you might need.\", type='text')], model='claude-sonnet-4-5-20250929', role='assistant', stop_reason='end_turn', stop_sequence=None, type='message', usage=Usage(cache_creation=CacheCreation(ephemeral_1h_input_tokens=0, ephemeral_5m_input_tokens=0), cache_creation_input_tokens=0, cache_read_input_tokens=0, input_tokens=16, output_tokens=58, server_tool_use=None, service_tier='standard'))\n"
     ]
    }
   ],
   "source": [
    "print(message)"
   ]
  },
  {
   "cell_type": "code",
   "execution_count": null,
   "id": "e7ffa0c9",
   "metadata": {},
   "outputs": [
    {
     "name": "stdout",
     "output_type": "stream",
     "text": [
      "{\n",
      "  \"id\": \"msg_01AKW7YKg8qkRMmN5BpZUmB7\",\n",
      "  \"content\": [\n",
      "    {\n",
      "      \"citations\": null,\n",
      "      \"text\": \"Hello! I appreciate the greeting, but I'm actually here to help *you*. Is there something you'd like to know about or discuss? I'm happy to assist with questions, have a conversation, help with writing or analysis, or whatever else you might need.\",\n",
      "      \"type\": \"text\"\n",
      "    }\n",
      "  ],\n",
      "  \"model\": \"claude-sonnet-4-5-20250929\",\n",
      "  \"role\": \"assistant\",\n",
      "  \"stop_reason\": \"end_turn\",\n",
      "  \"stop_sequence\": null,\n",
      "  \"type\": \"message\",\n",
      "  \"usage\": {\n",
      "    \"cache_creation\": {\n",
      "      \"ephemeral_1h_input_tokens\": 0,\n",
      "      \"ephemeral_5m_input_tokens\": 0\n",
      "    },\n",
      "    \"cache_creation_input_tokens\": 0,\n",
      "    \"cache_read_input_tokens\": 0,\n",
      "    \"input_tokens\": 16,\n",
      "    \"output_tokens\": 58,\n",
      "    \"server_tool_use\": null,\n",
      "    \"service_tier\": \"standard\"\n",
      "  }\n",
      "}\n",
      "Request ID: req_011CTo2ktqAraVgJdyC3oU57\n"
     ]
    }
   ],
   "source": [
    "print(json.dumps(message.model_dump(), indent=2))"
   ]
  },
  {
   "cell_type": "code",
   "execution_count": null,
   "id": "cdcfd73f",
   "metadata": {},
   "outputs": [],
   "source": []
  }
 ],
 "metadata": {
  "kernelspec": {
   "display_name": "learning",
   "language": "python",
   "name": "python3"
  },
  "language_info": {
   "codemirror_mode": {
    "name": "ipython",
    "version": 3
   },
   "file_extension": ".py",
   "mimetype": "text/x-python",
   "name": "python",
   "nbconvert_exporter": "python",
   "pygments_lexer": "ipython3",
   "version": "3.13.7"
  }
 },
 "nbformat": 4,
 "nbformat_minor": 5
}

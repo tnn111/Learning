{
 "cells": [
  {
   "cell_type": "code",
   "execution_count": 2,
   "id": "1fc9cc47",
   "metadata": {},
   "outputs": [
    {
     "data": {
      "text/plain": [
       "True"
      ]
     },
     "execution_count": 2,
     "metadata": {},
     "output_type": "execute_result"
    }
   ],
   "source": [
    "import pydantic_ai\n",
    "import anthropic\n",
    "import os\n",
    "import sys\n",
    "import json\n",
    "from dotenv import load_dotenv\n",
    "\n",
    "load_dotenv()\n"
   ]
  },
  {
   "cell_type": "code",
   "execution_count": 3,
   "id": "796770a0",
   "metadata": {},
   "outputs": [],
   "source": [
    "my_api_key = os.environ.get('ANTHROPIC_API_KEY')\n",
    "client = anthropic.Anthropic(api_key = my_api_key)"
   ]
  },
  {
   "cell_type": "code",
   "execution_count": 12,
   "id": "b032db6d",
   "metadata": {},
   "outputs": [],
   "source": [
    "message = client.messages.create(\n",
    "    model = 'claude-sonnet-4-5',\n",
    "    max_tokens = 1024,\n",
    "    messages = [\n",
    "        {\"role\": \"user\", \"content\": \"Look at the web site https://www.nature.com and give me the top headline\"}\n",
    "    ],\n",
    "    tools=[{\n",
    "        \"type\": \"web_fetch_20250910\",\n",
    "        \"name\": \"web_fetch\",\n",
    "        \"max_uses\": 5\n",
    "    }],\n",
    "    extra_headers={\n",
    "        \"anthropic-beta\": \"web-fetch-2025-09-10\"\n",
    "    }\n",
    ")"
   ]
  },
  {
   "cell_type": "code",
   "execution_count": 16,
   "id": "e7ffa0c9",
   "metadata": {},
   "outputs": [
    {
     "name": "stdout",
     "output_type": "stream",
     "text": [
      "{\n",
      "   \"id\": \"msg_01ESJBHvem9sP31CMRzh2HgL\",\n",
      "   \"content\": [\n",
      "      {\n",
      "         \"id\": \"srvtoolu_015F3ERA6m5wuSKzddwkYqdK\",\n",
      "         \"input\": {\n",
      "            \"url\": \"https://www.nature.com\"\n",
      "         },\n",
      "         \"name\": \"web_fetch\",\n",
      "         \"type\": \"server_tool_use\"\n",
      "      },\n",
      "      {\n",
      "         \"citations\": null,\n",
      "         \"text\": null,\n",
      "         \"type\": \"web_fetch_tool_result\",\n",
      "         \"tool_use_id\": \"srvtoolu_015F3ERA6m5wuSKzddwkYqdK\",\n",
      "         \"content\": {\n",
      "            \"type\": \"web_fetch_result\",\n",
      "            \"url\": \"https://www.nature.com\",\n",
      "            \"retrieved_at\": \"2025-07-30T12:35:31.591000+00:00\",\n",
      "            \"content\": {\n",
      "               \"type\": \"document\",\n",
      "               \"source\": {\n",
      "                  \"type\": \"text\",\n",
      "                  \"media_type\": \"text/plain\",\n",
      "                  \"data\": \"![Conceptual illustration of a person lifting up a wavefunction to reveal a glowing light to a cat. Other people gather round in discussion. There is a glowing blurred sphere above the wavefunction.](https://media.springernature.com/w735h400/nature-cms/uploads/cms/pages/2913/top_item_image/2025-07-31_Feature_-_Quantum_mechanics-illo_thumb-8801a2133e91ec9456a11cabf5e315c5.jpg)\\n[Physicists disagree wildly on what quantum mechanics says about reality, Nature survey shows](https://www.nature.com/articles/d41586-025-02342-y)\\nFirst major attempt to chart researchers\\u2019 views finds interpretations in conflict.\"\n",
      "               },\n",
      "               \"title\": \"Nature\"\n",
      "            }\n",
      "         }\n",
      "      },\n",
      "      {\n",
      "         \"citations\": null,\n",
      "         \"text\": \"The top headline on Nature.com is:\\n\\n**\\\"Physicists disagree wildly on what quantum mechanics says about reality, Nature survey shows\\\"**\\n\\nThe subtitle notes: \\\"First major attempt to chart researchers' views finds interpretations in conflict.\\\"\",\n",
      "         \"type\": \"text\"\n",
      "      }\n",
      "   ],\n",
      "   \"model\": \"claude-sonnet-4-5-20250929\",\n",
      "   \"role\": \"assistant\",\n",
      "   \"stop_reason\": \"end_turn\",\n",
      "   \"stop_sequence\": null,\n",
      "   \"type\": \"message\",\n",
      "   \"usage\": {\n",
      "      \"cache_creation\": {\n",
      "         \"ephemeral_1h_input_tokens\": 0,\n",
      "         \"ephemeral_5m_input_tokens\": 0\n",
      "      },\n",
      "      \"cache_creation_input_tokens\": 0,\n",
      "      \"cache_read_input_tokens\": 0,\n",
      "      \"input_tokens\": 2413,\n",
      "      \"output_tokens\": 114,\n",
      "      \"server_tool_use\": {\n",
      "         \"web_search_requests\": 0,\n",
      "         \"web_fetch_requests\": 1\n",
      "      },\n",
      "      \"service_tier\": \"standard\"\n",
      "   }\n",
      "}\n"
     ]
    }
   ],
   "source": [
    "print(json.dumps(message.model_dump(), indent = 3))"
   ]
  },
  {
   "cell_type": "code",
   "execution_count": null,
   "id": "cdcfd73f",
   "metadata": {},
   "outputs": [
    {
     "name": "stdout",
     "output_type": "stream",
     "text": [
      "The phrase \"hello world\" comes from Brian Kernighan's 1972 tutorial for the B programming language, and it became widely popularized through his 1978 book \"The C Programming Language\" (co-authored with Dennis Ritchie), where it was used as the first example program to demonstrate basic syntax.\n"
     ]
    }
   ],
   "source": [
    "from pydantic_ai import Agent\n",
    "\n",
    "agent = Agent(  \n",
    "    'anthropic:claude-sonnet-4-5',\n",
    "    instructions = 'Be concise, reply with one sentence.',  \n",
    ")\n",
    "\n",
    "result = await agent.run('Where does \"hello world\" come from?')  \n",
    "print(result.output)"
   ]
  },
  {
   "cell_type": "code",
   "execution_count": null,
   "id": "bd9a38a3",
   "metadata": {},
   "outputs": [],
   "source": []
  }
 ],
 "metadata": {
  "kernelspec": {
   "display_name": "learning",
   "language": "python",
   "name": "python3"
  },
  "language_info": {
   "codemirror_mode": {
    "name": "ipython",
    "version": 3
   },
   "file_extension": ".py",
   "mimetype": "text/x-python",
   "name": "python",
   "nbconvert_exporter": "python",
   "pygments_lexer": "ipython3",
   "version": "3.14.0"
  }
 },
 "nbformat": 4,
 "nbformat_minor": 5
}

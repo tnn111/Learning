{
 "cells": [
  {
   "cell_type": "code",
   "execution_count": 2,
   "id": "1fc9cc47",
   "metadata": {},
   "outputs": [
    {
     "data": {
      "text/plain": [
       "True"
      ]
     },
     "execution_count": 2,
     "metadata": {},
     "output_type": "execute_result"
    }
   ],
   "source": [
    "import pydantic_ai\n",
    "import anthropic\n",
    "import os\n",
    "import sys\n",
    "import json\n",
    "from dotenv import load_dotenv\n",
    "\n",
    "load_dotenv()\n"
   ]
  },
  {
   "cell_type": "code",
   "execution_count": 3,
   "id": "796770a0",
   "metadata": {},
   "outputs": [],
   "source": [
    "my_api_key = os.environ.get('ANTHROPIC_API_KEY')\n",
    "client = anthropic.Anthropic(api_key = my_api_key)"
   ]
  },
  {
   "cell_type": "code",
   "execution_count": 12,
   "id": "b032db6d",
   "metadata": {},
   "outputs": [],
   "source": [
    "message = client.messages.create(\n",
    "    model = 'claude-sonnet-4-5',\n",
    "    max_tokens = 1024,\n",
    "    messages = [\n",
    "        {\"role\": \"user\", \"content\": \"Look at the web site https://www.nature.com and give me the top headline\"}\n",
    "    ],\n",
    "    tools=[{\n",
    "        \"type\": \"web_fetch_20250910\",\n",
    "        \"name\": \"web_fetch\",\n",
    "        \"max_uses\": 5\n",
    "    }],\n",
    "    extra_headers={\n",
    "        \"anthropic-beta\": \"web-fetch-2025-09-10\"\n",
    "    }\n",
    ")"
   ]
  },
  {
   "cell_type": "code",
   "execution_count": 16,
   "id": "e7ffa0c9",
   "metadata": {},
   "outputs": [
    {
     "name": "stdout",
     "output_type": "stream",
     "text": [
      "{\n",
      "   \"id\": \"msg_01ESJBHvem9sP31CMRzh2HgL\",\n",
      "   \"content\": [\n",
      "      {\n",
      "         \"id\": \"srvtoolu_015F3ERA6m5wuSKzddwkYqdK\",\n",
      "         \"input\": {\n",
      "            \"url\": \"https://www.nature.com\"\n",
      "         },\n",
      "         \"name\": \"web_fetch\",\n",
      "         \"type\": \"server_tool_use\"\n",
      "      },\n",
      "      {\n",
      "         \"citations\": null,\n",
      "         \"text\": null,\n",
      "         \"type\": \"web_fetch_tool_result\",\n",
      "         \"tool_use_id\": \"srvtoolu_015F3ERA6m5wuSKzddwkYqdK\",\n",
      "         \"content\": {\n",
      "            \"type\": \"web_fetch_result\",\n",
      "            \"url\": \"https://www.nature.com\",\n",
      "            \"retrieved_at\": \"2025-07-30T12:35:31.591000+00:00\",\n",
      "            \"content\": {\n",
      "               \"type\": \"document\",\n",
      "               \"source\": {\n",
      "                  \"type\": \"text\",\n",
      "                  \"media_type\": \"text/plain\",\n",
      "                  \"data\": \"![Conceptual illustration of a person lifting up a wavefunction to reveal a glowing light to a cat. Other people gather round in discussion. There is a glowing blurred sphere above the wavefunction.](https://media.springernature.com/w735h400/nature-cms/uploads/cms/pages/2913/top_item_image/2025-07-31_Feature_-_Quantum_mechanics-illo_thumb-8801a2133e91ec9456a11cabf5e315c5.jpg)\\n[Physicists disagree wildly on what quantum mechanics says about reality, Nature survey shows](https://www.nature.com/articles/d41586-025-02342-y)\\nFirst major attempt to chart researchers\\u2019 views finds interpretations in conflict.\"\n",
      "               },\n",
      "               \"title\": \"Nature\"\n",
      "            }\n",
      "         }\n",
      "      },\n",
      "      {\n",
      "         \"citations\": null,\n",
      "         \"text\": \"The top headline on Nature.com is:\\n\\n**\\\"Physicists disagree wildly on what quantum mechanics says about reality, Nature survey shows\\\"**\\n\\nThe subtitle notes: \\\"First major attempt to chart researchers' views finds interpretations in conflict.\\\"\",\n",
      "         \"type\": \"text\"\n",
      "      }\n",
      "   ],\n",
      "   \"model\": \"claude-sonnet-4-5-20250929\",\n",
      "   \"role\": \"assistant\",\n",
      "   \"stop_reason\": \"end_turn\",\n",
      "   \"stop_sequence\": null,\n",
      "   \"type\": \"message\",\n",
      "   \"usage\": {\n",
      "      \"cache_creation\": {\n",
      "         \"ephemeral_1h_input_tokens\": 0,\n",
      "         \"ephemeral_5m_input_tokens\": 0\n",
      "      },\n",
      "      \"cache_creation_input_tokens\": 0,\n",
      "      \"cache_read_input_tokens\": 0,\n",
      "      \"input_tokens\": 2413,\n",
      "      \"output_tokens\": 114,\n",
      "      \"server_tool_use\": {\n",
      "         \"web_search_requests\": 0,\n",
      "         \"web_fetch_requests\": 1\n",
      "      },\n",
      "      \"service_tier\": \"standard\"\n",
      "   }\n",
      "}\n"
     ]
    }
   ],
   "source": [
    "print(json.dumps(message.model_dump(), indent = 3))"
   ]
  },
  {
   "cell_type": "code",
   "execution_count": null,
   "id": "cdcfd73f",
   "metadata": {},
   "outputs": [],
   "source": [
    "from pydantic_ai import Agent\n",
    "\n",
    "agent = Agent(  \n",
    "    'anthropic:claude-sonnet-4-5',\n",
    "    instructions = 'Be concise, reply with one sentence when possible.',  \n",
    ")\n",
    "\n",
    "result = await agent.run('Where does \"hello world\" come from?')  \n",
    "print(result.data)"
   ]
  },
  {
   "cell_type": "code",
   "execution_count": null,
   "id": "bd9a38a3",
   "metadata": {},
   "outputs": [
    {
     "name": "stdout",
     "output_type": "stream",
     "text": [
      "Message(id='msg_0167oHu8V9BUhLvLTgUciQF3', content=[TextBlock(citations=None, text=\"Why don't scientists trust atoms?\\n\\nBecause they make up everything!\", type='text')], model='claude-sonnet-4-5-20250929', role='assistant', stop_reason='end_turn', stop_sequence=None, type='message', usage=Usage(cache_creation=CacheCreation(ephemeral_1h_input_tokens=0, ephemeral_5m_input_tokens=0), cache_creation_input_tokens=0, cache_read_input_tokens=0, input_tokens=12, output_tokens=17, server_tool_use=None, service_tier='standard'))\n",
      "{\n",
      "   \"id\": \"msg_0167oHu8V9BUhLvLTgUciQF3\",\n",
      "   \"content\": [\n",
      "      {\n",
      "         \"citations\": null,\n",
      "         \"text\": \"Why don't scientists trust atoms?\\n\\nBecause they make up everything!\",\n",
      "         \"type\": \"text\"\n",
      "      }\n",
      "   ],\n",
      "   \"model\": \"claude-sonnet-4-5-20250929\",\n",
      "   \"role\": \"assistant\",\n",
      "   \"stop_reason\": \"end_turn\",\n",
      "   \"stop_sequence\": null,\n",
      "   \"type\": \"message\",\n",
      "   \"usage\": {\n",
      "      \"cache_creation\": {\n",
      "         \"ephemeral_1h_input_tokens\": 0,\n",
      "         \"ephemeral_5m_input_tokens\": 0\n",
      "      },\n",
      "      \"cache_creation_input_tokens\": 0,\n",
      "      \"cache_read_input_tokens\": 0,\n",
      "      \"input_tokens\": 12,\n",
      "      \"output_tokens\": 17,\n",
      "      \"server_tool_use\": null,\n",
      "      \"service_tier\": \"standard\"\n",
      "   }\n",
      "}\n"
     ]
    }
   ],
   "source": [
    "from dotenv import load_dotenv\n",
    "\n",
    "load_dotenv()\n",
    "\n",
    "my_api_key = os.environ.get('ANTHROPIC_API_KEY')\n",
    "\n",
    "client = anthropic.Anthropic(api_key = my_api_key)\n",
    "\n",
    "response = client.messages.create(\n",
    "    model = 'claude-sonnet-4-5',\n",
    "    max_tokens=1000,\n",
    "    messages=[\n",
    "        {'role': 'user', 'content': 'Tell me a joke.'}\n",
    "    ]\n",
    ")\n",
    "\n",
    "print(response)\n",
    "print(json.dumps(response.model_dump(), indent = 3))"
   ]
  },
  {
   "cell_type": "code",
   "execution_count": 13,
   "id": "65fbcb57",
   "metadata": {},
   "outputs": [
    {
     "data": {
      "text/plain": [
       "[TextBlock(citations=None, text='The exact recipe for Dr Pepper is a closely guarded trade secret, but the general flavors used are believed to include:\\n\\n- Cherry - Dr Pepper has a distinctive cherry-like flavor.\\n- Prune - Some of the flavor is thought to come from prune juice or prune-like compounds.\\n- Vanilla - Vanilla is believed to be one of the ingredients that contributes to the overall flavor profile.\\n- Spices - Dr Pepper likely contains a blend of spices, possibly including cinnamon, nutmeg, and other warm spices.\\n\\nThe full list of 23 flavors is not publicly known, but the combination of fruit, spice, and vanilla flavors is what gives Dr Pepper its unique and hard-to-pin-down taste. The exact recipe has been a secret since the drink was first created in 1885.', type='text')]"
      ]
     },
     "execution_count": 13,
     "metadata": {},
     "output_type": "execute_result"
    }
   ],
   "source": [
    "response.content"
   ]
  },
  {
   "cell_type": "code",
   "execution_count": 1,
   "id": "4764cc4f",
   "metadata": {},
   "outputs": [
    {
     "ename": "",
     "evalue": "",
     "output_type": "error",
     "traceback": [
      "\u001b[1;31mCannot execute code, session has been disposed. Please try restarting the Kernel."
     ]
    },
    {
     "ename": "",
     "evalue": "",
     "output_type": "error",
     "traceback": [
      "\u001b[1;31mCannot execute code, session has been disposed. Please try restarting the Kernel. \n",
      "\u001b[1;31mView Jupyter <a href='command:jupyter.viewOutput'>log</a> for further details."
     ]
    }
   ],
   "source": [
    "import anthropic\n",
    "from anthropic import Anthropic\n",
    "\n",
    "client = Anthropic()\n",
    "\n",
    "conversation_history = []\n",
    "\n",
    "while True:\n",
    "    user_input = input(\"User: \")\n",
    "    \n",
    "    if user_input.lower() == \"quit\":\n",
    "        print(\"Conversation ended.\")\n",
    "        break\n",
    "    \n",
    "    conversation_history.append({\"role\": \"user\", \"content\": user_input})\n",
    "\n",
    "    response = client.messages.create(\n",
    "        model = 'claude-4-5-sonnet',\n",
    "        messages = conversation_history,\n",
    "        max_tokens = 500\n",
    "    )\n",
    "\n",
    "    assistant_response = response.content[0].text\n",
    "    print(f\"Assistant: {assistant_response}\")\n",
    "    conversation_history.append({\"role\": \"assistant\", \"content\": assistant_response})"
   ]
  },
  {
   "cell_type": "code",
   "execution_count": 8,
   "id": "43cc199d",
   "metadata": {},
   "outputs": [],
   "source": [
    "import anthropic\n",
    "import os\n",
    "from dotenv import load_dotenv\n",
    "\n",
    "load_dotenv()\n",
    "\n",
    "my_api_key = os.environ.get('ANTHROPIC_API_KEY')\n",
    "\n",
    "client = anthropic.Anthropic(api_key=my_api_key)\n",
    "\n",
    "def get_completion(prompt: str):\n",
    "    message = client.messages.create(\n",
    "        model = 'claude-sonnet-4-5',\n",
    "        max_tokens = 2000,\n",
    "        temperature = 0.0,\n",
    "        messages = [\n",
    "          {\"role\": \"user\", \"content\": prompt}\n",
    "        ]\n",
    "    )\n",
    "    return message.content[0].text"
   ]
  },
  {
   "cell_type": "code",
   "execution_count": 9,
   "id": "a278aa81",
   "metadata": {},
   "outputs": [
    {
     "name": "stdout",
     "output_type": "stream",
     "text": [
      "Hello! How can I help you today?\n"
     ]
    }
   ],
   "source": [
    "prompt = 'Hello Claude'\n",
    "\n",
    "print(get_completion(prompt))"
   ]
  },
  {
   "cell_type": "code",
   "execution_count": null,
   "id": "04c82498",
   "metadata": {},
   "outputs": [],
   "source": []
  }
 ],
 "metadata": {
  "kernelspec": {
   "display_name": "learning",
   "language": "python",
   "name": "python3"
  },
  "language_info": {
   "codemirror_mode": {
    "name": "ipython",
    "version": 3
   },
   "file_extension": ".py",
   "mimetype": "text/x-python",
   "name": "python",
   "nbconvert_exporter": "python",
   "pygments_lexer": "ipython3",
   "version": "3.13.7"
  }
 },
 "nbformat": 4,
 "nbformat_minor": 5
}
